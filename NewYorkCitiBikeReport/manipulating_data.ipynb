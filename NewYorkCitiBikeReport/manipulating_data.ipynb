{
 "cells": [
  {
   "cell_type": "code",
   "execution_count": 1,
   "metadata": {},
   "outputs": [],
   "source": [
    "import os\n",
    "import pandas as pd\n",
    "from sqlalchemy import create_engine\n",
    "import pandas as pd\n",
    "import numpy as np\n",
    "import scipy.stats as st\n",
    "from scipy.stats import linregress\n",
    "from matplotlib import style\n",
    "import matplotlib.pyplot as plt\n",
    "from sklearn import datasets\n",
    "from jupyterthemes import jtplot\n",
    "import json\n",
    "\n",
    "from datetime import datetime"
   ]
  },
  {
   "cell_type": "code",
   "execution_count": 2,
   "metadata": {},
   "outputs": [
    {
     "name": "stderr",
     "output_type": "stream",
     "text": [
      "/Users/ngocdiep/opt/anaconda3/lib/python3.9/site-packages/IPython/core/interactiveshell.py:3444: DtypeWarning: Columns (5,7) have mixed types.Specify dtype option on import or set low_memory=False.\n",
      "  exec(code_obj, self.user_global_ns, self.user_ns)\n"
     ]
    },
    {
     "data": {
      "text/html": [
       "<div>\n",
       "<style scoped>\n",
       "    .dataframe tbody tr th:only-of-type {\n",
       "        vertical-align: middle;\n",
       "    }\n",
       "\n",
       "    .dataframe tbody tr th {\n",
       "        vertical-align: top;\n",
       "    }\n",
       "\n",
       "    .dataframe thead th {\n",
       "        text-align: right;\n",
       "    }\n",
       "</style>\n",
       "<table border=\"1\" class=\"dataframe\">\n",
       "  <thead>\n",
       "    <tr style=\"text-align: right;\">\n",
       "      <th></th>\n",
       "      <th>ride_id</th>\n",
       "      <th>rideable_type</th>\n",
       "      <th>started_at</th>\n",
       "      <th>ended_at</th>\n",
       "      <th>start_station_name</th>\n",
       "      <th>start_station_id</th>\n",
       "      <th>end_station_name</th>\n",
       "      <th>end_station_id</th>\n",
       "      <th>start_lat</th>\n",
       "      <th>start_lng</th>\n",
       "      <th>end_lat</th>\n",
       "      <th>end_lng</th>\n",
       "      <th>member_casual</th>\n",
       "    </tr>\n",
       "  </thead>\n",
       "  <tbody>\n",
       "    <tr>\n",
       "      <th>0</th>\n",
       "      <td>FA2F660C8D433037</td>\n",
       "      <td>electric_bike</td>\n",
       "      <td>2022-03-04 18:58:36</td>\n",
       "      <td>2022-03-04 19:13:51</td>\n",
       "      <td>Washington St &amp; Barrow St</td>\n",
       "      <td>5847.08</td>\n",
       "      <td>University Pl &amp; E 14 St</td>\n",
       "      <td>5905.14</td>\n",
       "      <td>40.731911</td>\n",
       "      <td>-74.008769</td>\n",
       "      <td>40.734814</td>\n",
       "      <td>-73.992085</td>\n",
       "      <td>member</td>\n",
       "    </tr>\n",
       "    <tr>\n",
       "      <th>1</th>\n",
       "      <td>03B6FE6FAEE61465</td>\n",
       "      <td>classic_bike</td>\n",
       "      <td>2022-03-06 20:37:09</td>\n",
       "      <td>2022-03-06 20:45:28</td>\n",
       "      <td>Washington St &amp; Barrow St</td>\n",
       "      <td>5847.08</td>\n",
       "      <td>W 11 St &amp; 6 Ave</td>\n",
       "      <td>5914.03</td>\n",
       "      <td>40.731911</td>\n",
       "      <td>-74.008769</td>\n",
       "      <td>40.735324</td>\n",
       "      <td>-73.998004</td>\n",
       "      <td>member</td>\n",
       "    </tr>\n",
       "    <tr>\n",
       "      <th>2</th>\n",
       "      <td>6E6995761B4A5760</td>\n",
       "      <td>classic_bike</td>\n",
       "      <td>2022-03-01 15:13:49</td>\n",
       "      <td>2022-03-01 15:19:53</td>\n",
       "      <td>1 Ave &amp; E 110 St</td>\n",
       "      <td>7522.02</td>\n",
       "      <td>E 110 St &amp; Madison Ave</td>\n",
       "      <td>7587.14</td>\n",
       "      <td>40.792327</td>\n",
       "      <td>-73.938300</td>\n",
       "      <td>40.796154</td>\n",
       "      <td>-73.947821</td>\n",
       "      <td>member</td>\n",
       "    </tr>\n",
       "    <tr>\n",
       "      <th>3</th>\n",
       "      <td>AA51CCF6CEDD6033</td>\n",
       "      <td>classic_bike</td>\n",
       "      <td>2022-03-11 13:59:03</td>\n",
       "      <td>2022-03-11 14:06:43</td>\n",
       "      <td>Crescent St &amp; Broadway</td>\n",
       "      <td>6827.11</td>\n",
       "      <td>31 Rd &amp; 21 St</td>\n",
       "      <td>6929.02</td>\n",
       "      <td>40.763359</td>\n",
       "      <td>-73.928647</td>\n",
       "      <td>40.766824</td>\n",
       "      <td>-73.930486</td>\n",
       "      <td>member</td>\n",
       "    </tr>\n",
       "    <tr>\n",
       "      <th>4</th>\n",
       "      <td>72AA3A7D430D8EF8</td>\n",
       "      <td>classic_bike</td>\n",
       "      <td>2022-03-08 14:59:16</td>\n",
       "      <td>2022-03-08 15:05:04</td>\n",
       "      <td>Crescent St &amp; Broadway</td>\n",
       "      <td>6827.11</td>\n",
       "      <td>31 Rd &amp; 21 St</td>\n",
       "      <td>6929.02</td>\n",
       "      <td>40.763359</td>\n",
       "      <td>-73.928647</td>\n",
       "      <td>40.766824</td>\n",
       "      <td>-73.930486</td>\n",
       "      <td>member</td>\n",
       "    </tr>\n",
       "  </tbody>\n",
       "</table>\n",
       "</div>"
      ],
      "text/plain": [
       "            ride_id  rideable_type           started_at             ended_at  \\\n",
       "0  FA2F660C8D433037  electric_bike  2022-03-04 18:58:36  2022-03-04 19:13:51   \n",
       "1  03B6FE6FAEE61465   classic_bike  2022-03-06 20:37:09  2022-03-06 20:45:28   \n",
       "2  6E6995761B4A5760   classic_bike  2022-03-01 15:13:49  2022-03-01 15:19:53   \n",
       "3  AA51CCF6CEDD6033   classic_bike  2022-03-11 13:59:03  2022-03-11 14:06:43   \n",
       "4  72AA3A7D430D8EF8   classic_bike  2022-03-08 14:59:16  2022-03-08 15:05:04   \n",
       "\n",
       "          start_station_name start_station_id         end_station_name  \\\n",
       "0  Washington St & Barrow St          5847.08  University Pl & E 14 St   \n",
       "1  Washington St & Barrow St          5847.08          W 11 St & 6 Ave   \n",
       "2           1 Ave & E 110 St          7522.02   E 110 St & Madison Ave   \n",
       "3     Crescent St & Broadway          6827.11            31 Rd & 21 St   \n",
       "4     Crescent St & Broadway          6827.11            31 Rd & 21 St   \n",
       "\n",
       "  end_station_id  start_lat  start_lng    end_lat    end_lng member_casual  \n",
       "0        5905.14  40.731911 -74.008769  40.734814 -73.992085        member  \n",
       "1        5914.03  40.731911 -74.008769  40.735324 -73.998004        member  \n",
       "2        7587.14  40.792327 -73.938300  40.796154 -73.947821        member  \n",
       "3        6929.02  40.763359 -73.928647  40.766824 -73.930486        member  \n",
       "4        6929.02  40.763359 -73.928647  40.766824 -73.930486        member  "
      ]
     },
     "execution_count": 2,
     "metadata": {},
     "output_type": "execute_result"
    }
   ],
   "source": [
    "CitiPath = 'Resources/2022/202203-citibike-tripdata.csv'\n",
    "citi_2203_df = pd.read_csv(CitiPath)\n",
    "citi_2203_df.head()"
   ]
  },
  {
   "cell_type": "code",
   "execution_count": 3,
   "metadata": {},
   "outputs": [
    {
     "name": "stdout",
     "output_type": "stream",
     "text": [
      " there are totally 1893444 in the chosen period (Mar_2022)\n"
     ]
    }
   ],
   "source": [
    "# print total of trips have been recorded in chosen period (Mar 2022)\n",
    "\n",
    "print(f\" there are totally {len(citi_2203_df)} in the chosen period (Mar_2022)\")"
   ]
  },
  {
   "cell_type": "code",
   "execution_count": 4,
   "metadata": {},
   "outputs": [
    {
     "data": {
      "text/plain": [
       "array(['member', 'casual'], dtype=object)"
      ]
     },
     "execution_count": 4,
     "metadata": {},
     "output_type": "execute_result"
    }
   ],
   "source": [
    "# find how many type of membership\n",
    "citi_2203_df['member_casual'].unique()\n"
   ]
  },
  {
   "cell_type": "code",
   "execution_count": 5,
   "metadata": {},
   "outputs": [
    {
     "data": {
      "text/plain": [
       "array(['Washington St & Barrow St', '1 Ave & E 110 St',\n",
       "       'Crescent St & Broadway', ..., '63 St & 5 Ave', nan,\n",
       "       'Morgan WH station'], dtype=object)"
      ]
     },
     "execution_count": 5,
     "metadata": {},
     "output_type": "execute_result"
    }
   ],
   "source": [
    "number_station = citi_2203_df['start_station_name'].unique()\n",
    "number_station"
   ]
  },
  {
   "cell_type": "code",
   "execution_count": 6,
   "metadata": {},
   "outputs": [
    {
     "data": {
      "text/plain": [
       "1544"
      ]
     },
     "execution_count": 6,
     "metadata": {},
     "output_type": "execute_result"
    }
   ],
   "source": [
    "len(number_station)"
   ]
  },
  {
   "cell_type": "code",
   "execution_count": 20,
   "metadata": {},
   "outputs": [
    {
     "data": {
      "text/plain": [
       "8577"
      ]
     },
     "execution_count": 20,
     "metadata": {},
     "output_type": "execute_result"
    }
   ],
   "source": [
    "null_station = citi_2203_df.loc[citi_2203_df[\"start_station_name\"] == \"W 21 St & 6 Ave\", [\"ride_id\", \"start_station_name\", \"rideable_type\"]]\n",
    "null_station.head(10)\n",
    "len(null_station)"
   ]
  },
  {
   "cell_type": "code",
   "execution_count": 23,
   "metadata": {},
   "outputs": [
    {
     "data": {
      "text/plain": [
       "W 21 St & 6 Ave       8577\n",
       "1 Ave & E 68 St       8135\n",
       "Broadway & W 58 St    7735\n",
       "Name: start_station_name, dtype: int64"
      ]
     },
     "execution_count": 23,
     "metadata": {},
     "output_type": "execute_result"
    }
   ],
   "source": [
    "# top 10\n",
    "extract_count = citi_2203_df[\"start_station_name\"].value_counts()\n",
    "extract_count.head(10)\n",
    "\n",
    "top_3_station = extract_count.nlargest(3)\n",
    "top_3_station"
   ]
  },
  {
   "cell_type": "code",
   "execution_count": 24,
   "metadata": {},
   "outputs": [
    {
     "data": {
      "text/plain": [
       "20 Ave & 31 St             2\n",
       "Morgan WH station          2\n",
       "Boerum Pl\\t& Pacific St    5\n",
       "Name: start_station_name, dtype: int64"
      ]
     },
     "execution_count": 24,
     "metadata": {},
     "output_type": "execute_result"
    }
   ],
   "source": [
    "bottom_3_station = extract_count.nsmallest(3)\n",
    "bottom_3_station"
   ]
  },
  {
   "cell_type": "code",
   "execution_count": 9,
   "metadata": {},
   "outputs": [],
   "source": [
    "# extract_count.sort_values([0], axis=0).groupby([0]).tail(10)"
   ]
  },
  {
   "cell_type": "code",
   "execution_count": 10,
   "metadata": {},
   "outputs": [],
   "source": [
    "# citi_2203_df = citi_2203_df.add_column(extract_count)"
   ]
  },
  {
   "cell_type": "code",
   "execution_count": 11,
   "metadata": {},
   "outputs": [],
   "source": [
    "# find out how many trips made by members:\n",
    "\n",
    "members =len(citi_2203_df.loc[citi_2203_df['member_casual']=='member'])\n",
    "\n",
    "# How many trips made by casual members\n",
    "\n",
    "casual = len(citi_2203_df.loc[citi_2203_df['member_casual']=='casual'])\n",
    "#print(f\"there are {len(citi_2203_df.loc[citi_2203_df[\"member_casual\"]==\"casual\")}\")"
   ]
  },
  {
   "cell_type": "code",
   "execution_count": 12,
   "metadata": {},
   "outputs": [
    {
     "name": "stdout",
     "output_type": "stream",
     "text": [
      " there are 1514163 trips by members\n",
      "there are 379281 trips by casual\n"
     ]
    }
   ],
   "source": [
    "print(f\" there are {members} trips by members\")\n",
    "print(f\"there are {casual} trips by casual\")"
   ]
  },
  {
   "cell_type": "code",
   "execution_count": 18,
   "metadata": {},
   "outputs": [
    {
     "data": {
      "text/plain": [
       "79.96872365911007"
      ]
     },
     "execution_count": 18,
     "metadata": {},
     "output_type": "execute_result"
    }
   ],
   "source": [
    "# casual percentage:\n",
    "percent_casual = casual/len(citi_2203_df)*100\n",
    "percent_casual\n",
    "percent_members = members/len(citi_2203_df)*100\n",
    "percent_members "
   ]
  },
  {
   "cell_type": "code",
   "execution_count": 14,
   "metadata": {},
   "outputs": [
    {
     "data": {
      "text/plain": [
       "1893444"
      ]
     },
     "execution_count": 14,
     "metadata": {},
     "output_type": "execute_result"
    }
   ],
   "source": [
    "#total trips in Mar 2022\n",
    "\n",
    "total_trips = members + casual\n",
    "total_trips"
   ]
  },
  {
   "cell_type": "code",
   "execution_count": 15,
   "metadata": {},
   "outputs": [
    {
     "data": {
      "text/plain": [
       "array(['electric_bike', 'classic_bike', 'docked_bike'], dtype=object)"
      ]
     },
     "execution_count": 15,
     "metadata": {},
     "output_type": "execute_result"
    }
   ],
   "source": [
    "citi_2203_df['rideable_type'].unique()"
   ]
  },
  {
   "cell_type": "code",
   "execution_count": 29,
   "metadata": {},
   "outputs": [
    {
     "name": "stdout",
     "output_type": "stream",
     "text": [
      " electric trips: 779271      classic trips: 1100249          docked trip: 13924\n"
     ]
    }
   ],
   "source": [
    "electric_trip = len(citi_2203_df.loc[citi_2203_df['rideable_type']=='electric_bike'])\n",
    "classic_trip = len(citi_2203_df.loc[citi_2203_df['rideable_type']=='classic_bike'])\n",
    "docked_trip = len(citi_2203_df.loc[citi_2203_df['rideable_type']=='docked_bike'])\n",
    "print(f\" electric trips: {electric_trip}\\\n",
    "      classic trips: {classic_trip}\\\n",
    "          docked trip: {docked_trip}\")"
   ]
  },
  {
   "cell_type": "code",
   "execution_count": 31,
   "metadata": {},
   "outputs": [
    {
     "name": "stdout",
     "output_type": "stream",
     "text": [
      " electric: 41.15627396426829\n",
      "classic: 58.108346483973115\n",
      "docked: 0.7353795517585944\n"
     ]
    }
   ],
   "source": [
    "electric_percent = electric_trip/len(citi_2203_df)*100\n",
    "classic_percent = classic_trip/len(citi_2203_df)*100\n",
    "docked_percent = docked_trip/len(citi_2203_df)*100\n",
    "print(f\" electric: {electric_percent}\\n\"\n",
    "      f\"classic: {classic_percent}\\n\"\n",
    "      f\"docked: {docked_percent}\")"
   ]
  },
  {
   "cell_type": "code",
   "execution_count": null,
   "metadata": {},
   "outputs": [
    {
     "data": {
      "text/html": [
       "<div>\n",
       "<style scoped>\n",
       "    .dataframe tbody tr th:only-of-type {\n",
       "        vertical-align: middle;\n",
       "    }\n",
       "\n",
       "    .dataframe tbody tr th {\n",
       "        vertical-align: top;\n",
       "    }\n",
       "\n",
       "    .dataframe thead th {\n",
       "        text-align: right;\n",
       "    }\n",
       "</style>\n",
       "<table border=\"1\" class=\"dataframe\">\n",
       "  <thead>\n",
       "    <tr style=\"text-align: right;\">\n",
       "      <th></th>\n",
       "      <th>ride_id</th>\n",
       "      <th>rideable_type</th>\n",
       "      <th>started_at</th>\n",
       "      <th>ended_at</th>\n",
       "      <th>start_station_name</th>\n",
       "      <th>start_station_id</th>\n",
       "      <th>end_station_name</th>\n",
       "      <th>end_station_id</th>\n",
       "      <th>start_lat</th>\n",
       "      <th>start_lng</th>\n",
       "      <th>end_lat</th>\n",
       "      <th>end_lng</th>\n",
       "      <th>member_casual</th>\n",
       "    </tr>\n",
       "  </thead>\n",
       "  <tbody>\n",
       "    <tr>\n",
       "      <th>0</th>\n",
       "      <td>55262E4365A955A2</td>\n",
       "      <td>classic_bike</td>\n",
       "      <td>2022-01-18 08:23:52</td>\n",
       "      <td>2022-01-18 08:28:18</td>\n",
       "      <td>Boerum Pl\\t&amp; Pacific St</td>\n",
       "      <td>4488.09</td>\n",
       "      <td>Clinton St &amp; Joralemon St</td>\n",
       "      <td>4605.04</td>\n",
       "      <td>40.688489</td>\n",
       "      <td>-73.991160</td>\n",
       "      <td>40.692395</td>\n",
       "      <td>-73.993379</td>\n",
       "      <td>member</td>\n",
       "    </tr>\n",
       "    <tr>\n",
       "      <th>1</th>\n",
       "      <td>D272F1B15D841EC0</td>\n",
       "      <td>classic_bike</td>\n",
       "      <td>2022-01-21 09:03:22</td>\n",
       "      <td>2022-01-21 09:05:44</td>\n",
       "      <td>E 12 St &amp; Ave C</td>\n",
       "      <td>5616.08</td>\n",
       "      <td>E 10 St &amp; Avenue A</td>\n",
       "      <td>5659.05</td>\n",
       "      <td>40.727243</td>\n",
       "      <td>-73.976831</td>\n",
       "      <td>40.727408</td>\n",
       "      <td>-73.981420</td>\n",
       "      <td>member</td>\n",
       "    </tr>\n",
       "    <tr>\n",
       "      <th>2</th>\n",
       "      <td>D1FCEF55EB4A807F</td>\n",
       "      <td>classic_bike</td>\n",
       "      <td>2022-01-22 14:28:32</td>\n",
       "      <td>2022-01-22 14:53:18</td>\n",
       "      <td>W 21 St &amp; 6 Ave</td>\n",
       "      <td>6140.05</td>\n",
       "      <td>W 44 St &amp; 11 Ave</td>\n",
       "      <td>6756.05</td>\n",
       "      <td>40.741740</td>\n",
       "      <td>-73.994156</td>\n",
       "      <td>40.762009</td>\n",
       "      <td>-73.996975</td>\n",
       "      <td>member</td>\n",
       "    </tr>\n",
       "    <tr>\n",
       "      <th>3</th>\n",
       "      <td>E9CBDC6A0162C068</td>\n",
       "      <td>electric_bike</td>\n",
       "      <td>2022-01-19 14:49:47</td>\n",
       "      <td>2022-01-19 14:54:02</td>\n",
       "      <td>38 St &amp; 30 Ave</td>\n",
       "      <td>6850.01</td>\n",
       "      <td>Crescent St &amp; 30 Ave</td>\n",
       "      <td>6958.06</td>\n",
       "      <td>40.764175</td>\n",
       "      <td>-73.915840</td>\n",
       "      <td>40.768692</td>\n",
       "      <td>-73.924957</td>\n",
       "      <td>member</td>\n",
       "    </tr>\n",
       "    <tr>\n",
       "      <th>4</th>\n",
       "      <td>2177A5B57326CE9B</td>\n",
       "      <td>electric_bike</td>\n",
       "      <td>2022-01-16 14:36:06</td>\n",
       "      <td>2022-01-16 14:44:06</td>\n",
       "      <td>Pacific St &amp; Nevins St</td>\n",
       "      <td>4362.04</td>\n",
       "      <td>Clinton St &amp; Tillary St</td>\n",
       "      <td>4748.07</td>\n",
       "      <td>40.685376</td>\n",
       "      <td>-73.983021</td>\n",
       "      <td>40.696233</td>\n",
       "      <td>-73.991421</td>\n",
       "      <td>member</td>\n",
       "    </tr>\n",
       "    <tr>\n",
       "      <th>...</th>\n",
       "      <td>...</td>\n",
       "      <td>...</td>\n",
       "      <td>...</td>\n",
       "      <td>...</td>\n",
       "      <td>...</td>\n",
       "      <td>...</td>\n",
       "      <td>...</td>\n",
       "      <td>...</td>\n",
       "      <td>...</td>\n",
       "      <td>...</td>\n",
       "      <td>...</td>\n",
       "      <td>...</td>\n",
       "      <td>...</td>\n",
       "    </tr>\n",
       "    <tr>\n",
       "      <th>1893439</th>\n",
       "      <td>79E49EA8727CA662</td>\n",
       "      <td>classic_bike</td>\n",
       "      <td>2022-03-30 21:12:45</td>\n",
       "      <td>2022-03-30 21:22:15</td>\n",
       "      <td>E 72 St &amp; York Ave</td>\n",
       "      <td>6889.12</td>\n",
       "      <td>E 58 St &amp; 3 Ave</td>\n",
       "      <td>6762.02</td>\n",
       "      <td>40.766638</td>\n",
       "      <td>-73.953483</td>\n",
       "      <td>40.760958</td>\n",
       "      <td>-73.967245</td>\n",
       "      <td>member</td>\n",
       "    </tr>\n",
       "    <tr>\n",
       "      <th>1893440</th>\n",
       "      <td>9C4F6A095779AAE2</td>\n",
       "      <td>electric_bike</td>\n",
       "      <td>2022-03-21 09:33:21</td>\n",
       "      <td>2022-03-21 09:39:45</td>\n",
       "      <td>W 48 St &amp;  Rockefeller Plaza</td>\n",
       "      <td>6626.11</td>\n",
       "      <td>E 58 St &amp; 3 Ave</td>\n",
       "      <td>6762.02</td>\n",
       "      <td>40.757769</td>\n",
       "      <td>-73.979294</td>\n",
       "      <td>40.760958</td>\n",
       "      <td>-73.967245</td>\n",
       "      <td>member</td>\n",
       "    </tr>\n",
       "    <tr>\n",
       "      <th>1893441</th>\n",
       "      <td>C1966A89B5078124</td>\n",
       "      <td>electric_bike</td>\n",
       "      <td>2022-03-04 14:31:36</td>\n",
       "      <td>2022-03-04 14:43:16</td>\n",
       "      <td>Central Park West &amp; W 85 St</td>\n",
       "      <td>7354.01</td>\n",
       "      <td>E 58 St &amp; 3 Ave</td>\n",
       "      <td>6762.02</td>\n",
       "      <td>40.784760</td>\n",
       "      <td>-73.969862</td>\n",
       "      <td>40.760958</td>\n",
       "      <td>-73.967245</td>\n",
       "      <td>member</td>\n",
       "    </tr>\n",
       "    <tr>\n",
       "      <th>1893442</th>\n",
       "      <td>A11D1F167EF1B8C6</td>\n",
       "      <td>classic_bike</td>\n",
       "      <td>2022-03-18 18:43:43</td>\n",
       "      <td>2022-03-18 18:53:41</td>\n",
       "      <td>W 56 St &amp; 6 Ave</td>\n",
       "      <td>6809.07</td>\n",
       "      <td>E 58 St &amp; 3 Ave</td>\n",
       "      <td>6762.02</td>\n",
       "      <td>40.763406</td>\n",
       "      <td>-73.977225</td>\n",
       "      <td>40.760958</td>\n",
       "      <td>-73.967245</td>\n",
       "      <td>member</td>\n",
       "    </tr>\n",
       "    <tr>\n",
       "      <th>1893443</th>\n",
       "      <td>74A6A40E386BE88F</td>\n",
       "      <td>electric_bike</td>\n",
       "      <td>2022-03-10 17:21:52</td>\n",
       "      <td>2022-03-10 17:29:53</td>\n",
       "      <td>5 Ave &amp; E 72 St</td>\n",
       "      <td>7100.07</td>\n",
       "      <td>E 58 St &amp; 3 Ave</td>\n",
       "      <td>6762.02</td>\n",
       "      <td>40.772828</td>\n",
       "      <td>-73.966853</td>\n",
       "      <td>40.760958</td>\n",
       "      <td>-73.967245</td>\n",
       "      <td>casual</td>\n",
       "    </tr>\n",
       "  </tbody>\n",
       "</table>\n",
       "<p>3998280 rows × 13 columns</p>\n",
       "</div>"
      ],
      "text/plain": [
       "                  ride_id  rideable_type           started_at  \\\n",
       "0        55262E4365A955A2   classic_bike  2022-01-18 08:23:52   \n",
       "1        D272F1B15D841EC0   classic_bike  2022-01-21 09:03:22   \n",
       "2        D1FCEF55EB4A807F   classic_bike  2022-01-22 14:28:32   \n",
       "3        E9CBDC6A0162C068  electric_bike  2022-01-19 14:49:47   \n",
       "4        2177A5B57326CE9B  electric_bike  2022-01-16 14:36:06   \n",
       "...                   ...            ...                  ...   \n",
       "1893439  79E49EA8727CA662   classic_bike  2022-03-30 21:12:45   \n",
       "1893440  9C4F6A095779AAE2  electric_bike  2022-03-21 09:33:21   \n",
       "1893441  C1966A89B5078124  electric_bike  2022-03-04 14:31:36   \n",
       "1893442  A11D1F167EF1B8C6   classic_bike  2022-03-18 18:43:43   \n",
       "1893443  74A6A40E386BE88F  electric_bike  2022-03-10 17:21:52   \n",
       "\n",
       "                    ended_at            start_station_name start_station_id  \\\n",
       "0        2022-01-18 08:28:18       Boerum Pl\\t& Pacific St          4488.09   \n",
       "1        2022-01-21 09:05:44               E 12 St & Ave C          5616.08   \n",
       "2        2022-01-22 14:53:18               W 21 St & 6 Ave          6140.05   \n",
       "3        2022-01-19 14:54:02                38 St & 30 Ave          6850.01   \n",
       "4        2022-01-16 14:44:06        Pacific St & Nevins St          4362.04   \n",
       "...                      ...                           ...              ...   \n",
       "1893439  2022-03-30 21:22:15            E 72 St & York Ave          6889.12   \n",
       "1893440  2022-03-21 09:39:45  W 48 St &  Rockefeller Plaza          6626.11   \n",
       "1893441  2022-03-04 14:43:16   Central Park West & W 85 St          7354.01   \n",
       "1893442  2022-03-18 18:53:41               W 56 St & 6 Ave          6809.07   \n",
       "1893443  2022-03-10 17:29:53               5 Ave & E 72 St          7100.07   \n",
       "\n",
       "                  end_station_name end_station_id  start_lat  start_lng  \\\n",
       "0        Clinton St & Joralemon St        4605.04  40.688489 -73.991160   \n",
       "1               E 10 St & Avenue A        5659.05  40.727243 -73.976831   \n",
       "2                 W 44 St & 11 Ave        6756.05  40.741740 -73.994156   \n",
       "3             Crescent St & 30 Ave        6958.06  40.764175 -73.915840   \n",
       "4          Clinton St & Tillary St        4748.07  40.685376 -73.983021   \n",
       "...                            ...            ...        ...        ...   \n",
       "1893439            E 58 St & 3 Ave        6762.02  40.766638 -73.953483   \n",
       "1893440            E 58 St & 3 Ave        6762.02  40.757769 -73.979294   \n",
       "1893441            E 58 St & 3 Ave        6762.02  40.784760 -73.969862   \n",
       "1893442            E 58 St & 3 Ave        6762.02  40.763406 -73.977225   \n",
       "1893443            E 58 St & 3 Ave        6762.02  40.772828 -73.966853   \n",
       "\n",
       "           end_lat    end_lng member_casual  \n",
       "0        40.692395 -73.993379        member  \n",
       "1        40.727408 -73.981420        member  \n",
       "2        40.762009 -73.996975        member  \n",
       "3        40.768692 -73.924957        member  \n",
       "4        40.696233 -73.991421        member  \n",
       "...            ...        ...           ...  \n",
       "1893439  40.760958 -73.967245        member  \n",
       "1893440  40.760958 -73.967245        member  \n",
       "1893441  40.760958 -73.967245        member  \n",
       "1893442  40.760958 -73.967245        member  \n",
       "1893443  40.760958 -73.967245        casual  \n",
       "\n",
       "[3998280 rows x 13 columns]"
      ]
     },
     "execution_count": 29,
     "metadata": {},
     "output_type": "execute_result"
    }
   ],
   "source": [
    "# try to join the above 2 df together (same columns, connecting rows)\n",
    "\n",
    "# concate_df = [citi_2201_df, citi_2202_df,citi_2203_df]\n",
    "\n",
    "# three_month_df = pd.concat(concate_df)\n",
    "# three_month_df"
   ]
  },
  {
   "cell_type": "code",
   "execution_count": null,
   "metadata": {},
   "outputs": [
    {
     "name": "stdout",
     "output_type": "stream",
     "text": [
      "<class 'pandas.core.frame.DataFrame'>\n",
      "Int64Index: 3998280 entries, 0 to 1893443\n",
      "Data columns (total 13 columns):\n",
      " #   Column              Dtype  \n",
      "---  ------              -----  \n",
      " 0   ride_id             object \n",
      " 1   rideable_type       object \n",
      " 2   started_at          object \n",
      " 3   ended_at            object \n",
      " 4   start_station_name  object \n",
      " 5   start_station_id    object \n",
      " 6   end_station_name    object \n",
      " 7   end_station_id      object \n",
      " 8   start_lat           float64\n",
      " 9   start_lng           float64\n",
      " 10  end_lat             float64\n",
      " 11  end_lng             float64\n",
      " 12  member_casual       object \n",
      "dtypes: float64(4), object(9)\n",
      "memory usage: 427.1+ MB\n"
     ]
    }
   ],
   "source": [
    "# three_month_df.info()"
   ]
  },
  {
   "cell_type": "code",
   "execution_count": null,
   "metadata": {},
   "outputs": [],
   "source": [
    "# write to csv for further Tableau works\n",
    "\n",
    "# three_month_df.to_csv(\"Resources/cleanData/three_mth_data.csv\", index = False)"
   ]
  },
  {
   "cell_type": "code",
   "execution_count": null,
   "metadata": {},
   "outputs": [],
   "source": []
  }
 ],
 "metadata": {
  "interpreter": {
   "hash": "bd25837007b2abb2c48e66e993edbc39b9bfd31f0a3c0b941778daec27d7c3ba"
  },
  "kernelspec": {
   "display_name": "Python 3.9.7 ('base')",
   "language": "python",
   "name": "python3"
  },
  "language_info": {
   "codemirror_mode": {
    "name": "ipython",
    "version": 3
   },
   "file_extension": ".py",
   "mimetype": "text/x-python",
   "name": "python",
   "nbconvert_exporter": "python",
   "pygments_lexer": "ipython3",
   "version": "3.9.7"
  },
  "orig_nbformat": 4
 },
 "nbformat": 4,
 "nbformat_minor": 2
}
